{
  "nbformat": 4,
  "nbformat_minor": 0,
  "metadata": {
    "colab": {
      "provenance": []
    },
    "kernelspec": {
      "name": "python3",
      "display_name": "Python 3"
    },
    "language_info": {
      "name": "python"
    }
  },
  "cells": [
    {
      "cell_type": "code",
      "execution_count": null,
      "metadata": {
        "id": "zmef4f6RIQsf"
      },
      "outputs": [],
      "source": [
        "# import the necessary packages\n",
        "from imutils.perspective import four_point_transform\n",
        "import pytesseract\n",
        "import argparse\n",
        "import imutils\n",
        "import cv2\n",
        "import re"
      ]
    },
    {
      "cell_type": "code",
      "source": [
        "pip install pytesseract"
      ],
      "metadata": {
        "id": "CuFcb1s6I7L9",
        "colab": {
          "base_uri": "https://localhost:8080/",
          "height": 346
        },
        "outputId": "69200acd-d33c-4f5d-d00d-57e7a900caa3"
      },
      "execution_count": null,
      "outputs": [
        {
          "output_type": "stream",
          "name": "stdout",
          "text": [
            "Looking in indexes: https://pypi.org/simple, https://us-python.pkg.dev/colab-wheels/public/simple/\n",
            "Collecting pytesseract\n",
            "  Downloading pytesseract-0.3.10-py3-none-any.whl (14 kB)\n",
            "Requirement already satisfied: packaging>=21.3 in /usr/local/lib/python3.7/dist-packages (from pytesseract) (21.3)\n",
            "Collecting Pillow>=8.0.0\n",
            "  Downloading Pillow-9.3.0-cp37-cp37m-manylinux_2_17_x86_64.manylinux2014_x86_64.whl (3.2 MB)\n",
            "\u001b[K     |████████████████████████████████| 3.2 MB 5.0 MB/s \n",
            "\u001b[?25hRequirement already satisfied: pyparsing!=3.0.5,>=2.0.2 in /usr/local/lib/python3.7/dist-packages (from packaging>=21.3->pytesseract) (3.0.9)\n",
            "Installing collected packages: Pillow, pytesseract\n",
            "  Attempting uninstall: Pillow\n",
            "    Found existing installation: Pillow 7.1.2\n",
            "    Uninstalling Pillow-7.1.2:\n",
            "      Successfully uninstalled Pillow-7.1.2\n",
            "Successfully installed Pillow-9.3.0 pytesseract-0.3.10\n"
          ]
        },
        {
          "output_type": "display_data",
          "data": {
            "application/vnd.colab-display-data+json": {
              "pip_warning": {
                "packages": [
                  "PIL"
                ]
              }
            }
          },
          "metadata": {}
        }
      ]
    },
    {
      "cell_type": "code",
      "source": [],
      "metadata": {
        "id": "MzcINuNeIg0m"
      },
      "execution_count": null,
      "outputs": []
    },
    {
      "cell_type": "code",
      "source": [
        "import cv2\n",
        "import pytesseract\n",
        "import re"
      ],
      "metadata": {
        "id": "3HCNhEfEI8Tg"
      },
      "execution_count": null,
      "outputs": []
    },
    {
      "cell_type": "code",
      "source": [
        "File_path = \"/content/drive/MyDrive/assignment/dataset/Visiting card Mini/Business Card Mini Dataset_1.jpg\"\n",
        "img = cv2.imread(File_path, -1)"
      ],
      "metadata": {
        "id": "ifCY1aovXEcv"
      },
      "execution_count": 10,
      "outputs": []
    },
    {
      "cell_type": "code",
      "source": [
        "gray = cv2.cvtColor(img, cv2.COLOR_BGR2GRAY)\n",
        "_, th_1 = cv2.threshold(gray, 200, 255, cv2.THRESH_BINARY_INV) # for black backgrounds - binary - global\n",
        "_, th_2 = cv2.threshold(gray, 100, 255, cv2.THRESH_BINARY) # for white backgrounds - binary - global"
      ],
      "metadata": {
        "id": "3b_JLB3eXUlX"
      },
      "execution_count": 11,
      "outputs": []
    },
    {
      "cell_type": "code",
      "source": [
        "!sudo apt-get install tesseract-ocr"
      ],
      "metadata": {
        "colab": {
          "base_uri": "https://localhost:8080/"
        },
        "id": "Ky1GX8ycdXq2",
        "outputId": "7d1786fa-3685-42b0-c584-2f5bec173853"
      },
      "execution_count": 12,
      "outputs": [
        {
          "output_type": "stream",
          "name": "stdout",
          "text": [
            "Reading package lists... Done\n",
            "Building dependency tree       \n",
            "Reading state information... Done\n",
            "tesseract-ocr is already the newest version (4.00~git2288-10f4998a-2).\n",
            "The following package was automatically installed and is no longer required:\n",
            "  libnvidia-common-460\n",
            "Use 'sudo apt autoremove' to remove it.\n",
            "0 upgraded, 0 newly installed, 0 to remove and 5 not upgraded.\n"
          ]
        }
      ]
    },
    {
      "cell_type": "code",
      "source": [
        "!pip install pytesseract==0.3.9"
      ],
      "metadata": {
        "colab": {
          "base_uri": "https://localhost:8080/"
        },
        "id": "V_n1ozD-dcFf",
        "outputId": "3279d6c3-fa78-43c8-fa3c-8f7b8f602e9e"
      },
      "execution_count": 13,
      "outputs": [
        {
          "output_type": "stream",
          "name": "stdout",
          "text": [
            "Looking in indexes: https://pypi.org/simple, https://us-python.pkg.dev/colab-wheels/public/simple/\n",
            "Requirement already satisfied: pytesseract==0.3.9 in /usr/local/lib/python3.7/dist-packages (0.3.9)\n",
            "Requirement already satisfied: Pillow>=8.0.0 in /usr/local/lib/python3.7/dist-packages (from pytesseract==0.3.9) (9.3.0)\n",
            "Requirement already satisfied: packaging>=21.3 in /usr/local/lib/python3.7/dist-packages (from pytesseract==0.3.9) (21.3)\n",
            "Requirement already satisfied: pyparsing!=3.0.5,>=2.0.2 in /usr/local/lib/python3.7/dist-packages (from packaging>=21.3->pytesseract==0.3.9) (3.0.9)\n"
          ]
        }
      ]
    },
    {
      "cell_type": "code",
      "source": [
        "text_1 = pytesseract.image_to_string(th_1)\n",
        "text_2 = pytesseract.image_to_string(th_2)"
      ],
      "metadata": {
        "id": "LAjIELgYYFaJ"
      },
      "execution_count": 14,
      "outputs": []
    },
    {
      "cell_type": "code",
      "source": [
        "length_1 = len(text_1)\n",
        "length_2 = len(text_2)\n",
        "if length_1 > length_2:\n",
        "    text_image = text_1\n",
        "else:\n",
        "    text_image = text_2"
      ],
      "metadata": {
        "id": "KW3_9i1hdtCZ"
      },
      "execution_count": 15,
      "outputs": []
    },
    {
      "cell_type": "code",
      "source": [
        "text_lst = text_image.splitlines() # This is to get each line as a seperate text\n",
        "text_lst = [word for word in text_lst if len(word)!= 0]"
      ],
      "metadata": {
        "id": "doCeJCbKd0EA"
      },
      "execution_count": 16,
      "outputs": []
    },
    {
      "cell_type": "code",
      "source": [
        "def get_full_name(lst):\n",
        "    for idx in lst:\n",
        "        full_name = re.match(r\"(?P<first_name>\\w+) (?P<last_name>\\w+)\", idx)\n",
        "        if full_name is not None:\n",
        "            return idx\n",
        "def get_email(lst):\n",
        "    for idx in lst:\n",
        "        mail = re.search(r'[\\w\\.-]+@[\\w\\.-]+', idx)\n",
        "        if mail is not None:\n",
        "            return idx\n",
        "def get_phone_number(lst):\n",
        "    for idx in lst:\n",
        "        for i in range(0, len(idx)):\n",
        "            if idx[i][0] == \"+\":\n",
        "                return idx\n",
        "            elif idx[i][0] == \"0\":\n",
        "                return idx\n",
        "def company_name(lst):\n",
        "    for idx in lst:\n",
        "        company = re.search(r'/^[.@&]?[a-zA-Z0-9 ]+[ !.@&()]?[ a-zA-Z0-9!()]+/', idx)\n",
        "        if company is not None:\n",
        "            return idx"
      ],
      "metadata": {
        "id": "4s2JfjOZd5GJ"
      },
      "execution_count": 19,
      "outputs": []
    },
    {
      "cell_type": "code",
      "source": [
        "Name = \"\"\n",
        "Telephone = \"\"\n",
        "Email = \"\"\n",
        "Company = \"\"\n",
        "#===========\n",
        "Final_text = {\"Name\": get_full_name(text_lst),\n",
        "              \"Telephone\" : get_phone_number(text_lst),\n",
        "              \"Email\" : get_email(text_lst),\n",
        "              \"Company\":company_name(text_lst)}\n",
        "print(Final_text)"
      ],
      "metadata": {
        "colab": {
          "base_uri": "https://localhost:8080/"
        },
        "id": "9B3PysfOd9W5",
        "outputId": "4e95735c-6992-40c0-948a-b9752e637a55"
      },
      "execution_count": 20,
      "outputs": [
        {
          "output_type": "stream",
          "name": "stdout",
          "text": [
            "{'Name': 'OTe Lares LaLa pL yan', 'Telephone': '7ECBI 60066 16+', 'Email': None, 'Company': None}\n"
          ]
        }
      ]
    }
  ]
}